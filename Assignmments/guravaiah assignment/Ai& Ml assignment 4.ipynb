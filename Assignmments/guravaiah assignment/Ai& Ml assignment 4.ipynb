{
 "cells": [
  {
   "cell_type": "code",
   "execution_count": 3,
   "id": "d5f45715-7781-4772-b845-c36ebc33d8af",
   "metadata": {},
   "outputs": [
    {
     "name": "stderr",
     "output_type": "stream",
     "text": [
      "\n",
      "A module that was compiled using NumPy 1.x cannot be run in\n",
      "NumPy 2.3.1 as it may crash. To support both 1.x and 2.x\n",
      "versions of NumPy, modules must be compiled with NumPy 2.0.\n",
      "Some module may need to rebuild instead e.g. with 'pybind11>=2.12'.\n",
      "\n",
      "If you are a user of the module, the easiest solution will be to\n",
      "downgrade to 'numpy<2' or try to upgrade the affected module.\n",
      "We expect that some modules will need time to support NumPy 2.\n",
      "\n",
      "Traceback (most recent call last):  File \"<frozen runpy>\", line 198, in _run_module_as_main\n",
      "  File \"<frozen runpy>\", line 88, in _run_code\n",
      "  File \"C:\\Users\\GURU\\AppData\\Roaming\\Python\\Python312\\site-packages\\ipykernel_launcher.py\", line 18, in <module>\n",
      "    app.launch_new_instance()\n",
      "  File \"C:\\Users\\GURU\\AppData\\Roaming\\Python\\Python312\\site-packages\\traitlets\\config\\application.py\", line 1075, in launch_instance\n",
      "    app.start()\n",
      "  File \"C:\\Users\\GURU\\AppData\\Roaming\\Python\\Python312\\site-packages\\ipykernel\\kernelapp.py\", line 739, in start\n",
      "    self.io_loop.start()\n",
      "  File \"C:\\Users\\GURU\\AppData\\Roaming\\Python\\Python312\\site-packages\\tornado\\platform\\asyncio.py\", line 211, in start\n",
      "    self.asyncio_loop.run_forever()\n",
      "  File \"C:\\anakonda\\Lib\\asyncio\\base_events.py\", line 641, in run_forever\n",
      "    self._run_once()\n",
      "  File \"C:\\anakonda\\Lib\\asyncio\\base_events.py\", line 1986, in _run_once\n",
      "    handle._run()\n",
      "  File \"C:\\anakonda\\Lib\\asyncio\\events.py\", line 88, in _run\n",
      "    self._context.run(self._callback, *self._args)\n",
      "  File \"C:\\Users\\GURU\\AppData\\Roaming\\Python\\Python312\\site-packages\\ipykernel\\kernelbase.py\", line 545, in dispatch_queue\n",
      "    await self.process_one()\n",
      "  File \"C:\\Users\\GURU\\AppData\\Roaming\\Python\\Python312\\site-packages\\ipykernel\\kernelbase.py\", line 534, in process_one\n",
      "    await dispatch(*args)\n",
      "  File \"C:\\Users\\GURU\\AppData\\Roaming\\Python\\Python312\\site-packages\\ipykernel\\kernelbase.py\", line 437, in dispatch_shell\n",
      "    await result\n",
      "  File \"C:\\Users\\GURU\\AppData\\Roaming\\Python\\Python312\\site-packages\\ipykernel\\ipkernel.py\", line 362, in execute_request\n",
      "    await super().execute_request(stream, ident, parent)\n",
      "  File \"C:\\Users\\GURU\\AppData\\Roaming\\Python\\Python312\\site-packages\\ipykernel\\kernelbase.py\", line 778, in execute_request\n",
      "    reply_content = await reply_content\n",
      "  File \"C:\\Users\\GURU\\AppData\\Roaming\\Python\\Python312\\site-packages\\ipykernel\\ipkernel.py\", line 449, in do_execute\n",
      "    res = shell.run_cell(\n",
      "  File \"C:\\Users\\GURU\\AppData\\Roaming\\Python\\Python312\\site-packages\\ipykernel\\zmqshell.py\", line 549, in run_cell\n",
      "    return super().run_cell(*args, **kwargs)\n",
      "  File \"C:\\Users\\GURU\\AppData\\Roaming\\Python\\Python312\\site-packages\\IPython\\core\\interactiveshell.py\", line 3100, in run_cell\n",
      "    result = self._run_cell(\n",
      "  File \"C:\\Users\\GURU\\AppData\\Roaming\\Python\\Python312\\site-packages\\IPython\\core\\interactiveshell.py\", line 3155, in _run_cell\n",
      "    result = runner(coro)\n",
      "  File \"C:\\Users\\GURU\\AppData\\Roaming\\Python\\Python312\\site-packages\\IPython\\core\\async_helpers.py\", line 128, in _pseudo_sync_runner\n",
      "    coro.send(None)\n",
      "  File \"C:\\Users\\GURU\\AppData\\Roaming\\Python\\Python312\\site-packages\\IPython\\core\\interactiveshell.py\", line 3367, in run_cell_async\n",
      "    has_raised = await self.run_ast_nodes(code_ast.body, cell_name,\n",
      "  File \"C:\\Users\\GURU\\AppData\\Roaming\\Python\\Python312\\site-packages\\IPython\\core\\interactiveshell.py\", line 3612, in run_ast_nodes\n",
      "    if await self.run_code(code, result, async_=asy):\n",
      "  File \"C:\\Users\\GURU\\AppData\\Roaming\\Python\\Python312\\site-packages\\IPython\\core\\interactiveshell.py\", line 3672, in run_code\n",
      "    exec(code_obj, self.user_global_ns, self.user_ns)\n",
      "  File \"C:\\Users\\GURU\\AppData\\Local\\Temp\\ipykernel_21868\\3013694860.py\", line 3, in <module>\n",
      "    import matplotlib.pyplot as plt\n",
      "  File \"C:\\anakonda\\Lib\\site-packages\\matplotlib\\__init__.py\", line 159, in <module>\n",
      "    from . import _api, _version, cbook, _docstring, rcsetup\n",
      "  File \"C:\\anakonda\\Lib\\site-packages\\matplotlib\\rcsetup.py\", line 28, in <module>\n",
      "    from matplotlib.colors import Colormap, is_color_like\n",
      "  File \"C:\\anakonda\\Lib\\site-packages\\matplotlib\\colors.py\", line 57, in <module>\n",
      "    from matplotlib import _api, _cm, cbook, scale\n",
      "  File \"C:\\anakonda\\Lib\\site-packages\\matplotlib\\scale.py\", line 22, in <module>\n",
      "    from matplotlib.ticker import (\n",
      "  File \"C:\\anakonda\\Lib\\site-packages\\matplotlib\\ticker.py\", line 144, in <module>\n",
      "    from matplotlib import transforms as mtransforms\n",
      "  File \"C:\\anakonda\\Lib\\site-packages\\matplotlib\\transforms.py\", line 49, in <module>\n",
      "    from matplotlib._path import (\n"
     ]
    },
    {
     "ename": "ImportError",
     "evalue": "\nA module that was compiled using NumPy 1.x cannot be run in\nNumPy 2.3.1 as it may crash. To support both 1.x and 2.x\nversions of NumPy, modules must be compiled with NumPy 2.0.\nSome module may need to rebuild instead e.g. with 'pybind11>=2.12'.\n\nIf you are a user of the module, the easiest solution will be to\ndowngrade to 'numpy<2' or try to upgrade the affected module.\nWe expect that some modules will need time to support NumPy 2.\n\n",
     "output_type": "error",
     "traceback": [
      "\u001b[31m---------------------------------------------------------------------------\u001b[39m",
      "\u001b[31mImportError\u001b[39m                               Traceback (most recent call last)",
      "\u001b[36mFile \u001b[39m\u001b[32m~\\AppData\\Roaming\\Python\\Python312\\site-packages\\numpy\\core\\_multiarray_umath.py:46\u001b[39m, in \u001b[36m__getattr__\u001b[39m\u001b[34m(attr_name)\u001b[39m\n\u001b[32m     41\u001b[39m     \u001b[38;5;66;03m# Also print the message (with traceback).  This is because old versions\u001b[39;00m\n\u001b[32m     42\u001b[39m     \u001b[38;5;66;03m# of NumPy unfortunately set up the import to replace (and hide) the\u001b[39;00m\n\u001b[32m     43\u001b[39m     \u001b[38;5;66;03m# error.  The traceback shouldn't be needed, but e.g. pytest plugins\u001b[39;00m\n\u001b[32m     44\u001b[39m     \u001b[38;5;66;03m# seem to swallow it and we should be failing anyway...\u001b[39;00m\n\u001b[32m     45\u001b[39m     sys.stderr.write(msg + tb_msg)\n\u001b[32m---> \u001b[39m\u001b[32m46\u001b[39m     \u001b[38;5;28;01mraise\u001b[39;00m \u001b[38;5;167;01mImportError\u001b[39;00m(msg)\n\u001b[32m     48\u001b[39m ret = \u001b[38;5;28mgetattr\u001b[39m(_multiarray_umath, attr_name, \u001b[38;5;28;01mNone\u001b[39;00m)\n\u001b[32m     49\u001b[39m \u001b[38;5;28;01mif\u001b[39;00m ret \u001b[38;5;129;01mis\u001b[39;00m \u001b[38;5;28;01mNone\u001b[39;00m:\n",
      "\u001b[31mImportError\u001b[39m: \nA module that was compiled using NumPy 1.x cannot be run in\nNumPy 2.3.1 as it may crash. To support both 1.x and 2.x\nversions of NumPy, modules must be compiled with NumPy 2.0.\nSome module may need to rebuild instead e.g. with 'pybind11>=2.12'.\n\nIf you are a user of the module, the easiest solution will be to\ndowngrade to 'numpy<2' or try to upgrade the affected module.\nWe expect that some modules will need time to support NumPy 2.\n\n"
     ]
    },
    {
     "ename": "ImportError",
     "evalue": "initialization failed",
     "output_type": "error",
     "traceback": [
      "\u001b[31m---------------------------------------------------------------------------\u001b[39m",
      "\u001b[31mImportError\u001b[39m                               Traceback (most recent call last)",
      "\u001b[31mImportError\u001b[39m: numpy.core.multiarray failed to import",
      "\nThe above exception was the direct cause of the following exception:\n",
      "\u001b[31mImportError\u001b[39m                               Traceback (most recent call last)",
      "\u001b[36mCell\u001b[39m\u001b[36m \u001b[39m\u001b[32mIn[3]\u001b[39m\u001b[32m, line 3\u001b[39m\n\u001b[32m      1\u001b[39m \u001b[38;5;28;01mimport\u001b[39;00m\u001b[38;5;250m \u001b[39m\u001b[34;01mpandas\u001b[39;00m\u001b[38;5;250m \u001b[39m\u001b[38;5;28;01mas\u001b[39;00m\u001b[38;5;250m \u001b[39m\u001b[34;01mpd\u001b[39;00m\n\u001b[32m      2\u001b[39m \u001b[38;5;28;01mimport\u001b[39;00m\u001b[38;5;250m \u001b[39m\u001b[34;01mnumpy\u001b[39;00m\u001b[38;5;250m \u001b[39m\u001b[38;5;28;01mas\u001b[39;00m\u001b[38;5;250m \u001b[39m\u001b[34;01mnp\u001b[39;00m\n\u001b[32m----> \u001b[39m\u001b[32m3\u001b[39m \u001b[38;5;28;01mimport\u001b[39;00m\u001b[38;5;250m \u001b[39m\u001b[34;01mmatplotlib\u001b[39;00m\u001b[34;01m.\u001b[39;00m\u001b[34;01mpyplot\u001b[39;00m\u001b[38;5;250m \u001b[39m\u001b[38;5;28;01mas\u001b[39;00m\u001b[38;5;250m \u001b[39m\u001b[34;01mplt\u001b[39;00m\n\u001b[32m      4\u001b[39m \u001b[38;5;28;01mimport\u001b[39;00m\u001b[38;5;250m \u001b[39m\u001b[34;01mseaborn\u001b[39;00m\u001b[38;5;250m \u001b[39m\u001b[38;5;28;01mas\u001b[39;00m\u001b[38;5;250m \u001b[39m\u001b[34;01msns\u001b[39;00m\n\u001b[32m      5\u001b[39m \u001b[38;5;28;01mfrom\u001b[39;00m\u001b[38;5;250m \u001b[39m\u001b[34;01mscipy\u001b[39;00m\u001b[34;01m.\u001b[39;00m\u001b[34;01mstats\u001b[39;00m\u001b[38;5;250m \u001b[39m\u001b[38;5;28;01mimport\u001b[39;00m ttest_ind, f_oneway, chi2_contingency\n",
      "\u001b[36mFile \u001b[39m\u001b[32mC:\\anakonda\\Lib\\site-packages\\matplotlib\\__init__.py:159\u001b[39m\n\u001b[32m    155\u001b[39m \u001b[38;5;28;01mfrom\u001b[39;00m\u001b[38;5;250m \u001b[39m\u001b[34;01mpackaging\u001b[39;00m\u001b[34;01m.\u001b[39;00m\u001b[34;01mversion\u001b[39;00m\u001b[38;5;250m \u001b[39m\u001b[38;5;28;01mimport\u001b[39;00m parse \u001b[38;5;28;01mas\u001b[39;00m parse_version\n\u001b[32m    157\u001b[39m \u001b[38;5;66;03m# cbook must import matplotlib only within function\u001b[39;00m\n\u001b[32m    158\u001b[39m \u001b[38;5;66;03m# definitions, so it is safe to import from it here.\u001b[39;00m\n\u001b[32m--> \u001b[39m\u001b[32m159\u001b[39m \u001b[38;5;28;01mfrom\u001b[39;00m\u001b[38;5;250m \u001b[39m\u001b[34;01m.\u001b[39;00m\u001b[38;5;250m \u001b[39m\u001b[38;5;28;01mimport\u001b[39;00m _api, _version, cbook, _docstring, rcsetup\n\u001b[32m    160\u001b[39m \u001b[38;5;28;01mfrom\u001b[39;00m\u001b[38;5;250m \u001b[39m\u001b[34;01mmatplotlib\u001b[39;00m\u001b[34;01m.\u001b[39;00m\u001b[34;01mcbook\u001b[39;00m\u001b[38;5;250m \u001b[39m\u001b[38;5;28;01mimport\u001b[39;00m sanitize_sequence\n\u001b[32m    161\u001b[39m \u001b[38;5;28;01mfrom\u001b[39;00m\u001b[38;5;250m \u001b[39m\u001b[34;01mmatplotlib\u001b[39;00m\u001b[34;01m.\u001b[39;00m\u001b[34;01m_api\u001b[39;00m\u001b[38;5;250m \u001b[39m\u001b[38;5;28;01mimport\u001b[39;00m MatplotlibDeprecationWarning\n",
      "\u001b[36mFile \u001b[39m\u001b[32mC:\\anakonda\\Lib\\site-packages\\matplotlib\\rcsetup.py:28\u001b[39m\n\u001b[32m     26\u001b[39m \u001b[38;5;28;01mfrom\u001b[39;00m\u001b[38;5;250m \u001b[39m\u001b[34;01mmatplotlib\u001b[39;00m\u001b[34;01m.\u001b[39;00m\u001b[34;01mbackends\u001b[39;00m\u001b[38;5;250m \u001b[39m\u001b[38;5;28;01mimport\u001b[39;00m BackendFilter, backend_registry\n\u001b[32m     27\u001b[39m \u001b[38;5;28;01mfrom\u001b[39;00m\u001b[38;5;250m \u001b[39m\u001b[34;01mmatplotlib\u001b[39;00m\u001b[34;01m.\u001b[39;00m\u001b[34;01mcbook\u001b[39;00m\u001b[38;5;250m \u001b[39m\u001b[38;5;28;01mimport\u001b[39;00m ls_mapper\n\u001b[32m---> \u001b[39m\u001b[32m28\u001b[39m \u001b[38;5;28;01mfrom\u001b[39;00m\u001b[38;5;250m \u001b[39m\u001b[34;01mmatplotlib\u001b[39;00m\u001b[34;01m.\u001b[39;00m\u001b[34;01mcolors\u001b[39;00m\u001b[38;5;250m \u001b[39m\u001b[38;5;28;01mimport\u001b[39;00m Colormap, is_color_like\n\u001b[32m     29\u001b[39m \u001b[38;5;28;01mfrom\u001b[39;00m\u001b[38;5;250m \u001b[39m\u001b[34;01mmatplotlib\u001b[39;00m\u001b[34;01m.\u001b[39;00m\u001b[34;01m_fontconfig_pattern\u001b[39;00m\u001b[38;5;250m \u001b[39m\u001b[38;5;28;01mimport\u001b[39;00m parse_fontconfig_pattern\n\u001b[32m     30\u001b[39m \u001b[38;5;28;01mfrom\u001b[39;00m\u001b[38;5;250m \u001b[39m\u001b[34;01mmatplotlib\u001b[39;00m\u001b[34;01m.\u001b[39;00m\u001b[34;01m_enums\u001b[39;00m\u001b[38;5;250m \u001b[39m\u001b[38;5;28;01mimport\u001b[39;00m JoinStyle, CapStyle\n",
      "\u001b[36mFile \u001b[39m\u001b[32mC:\\anakonda\\Lib\\site-packages\\matplotlib\\colors.py:57\u001b[39m\n\u001b[32m     55\u001b[39m \u001b[38;5;28;01mimport\u001b[39;00m\u001b[38;5;250m \u001b[39m\u001b[34;01mmatplotlib\u001b[39;00m\u001b[38;5;250m \u001b[39m\u001b[38;5;28;01mas\u001b[39;00m\u001b[38;5;250m \u001b[39m\u001b[34;01mmpl\u001b[39;00m\n\u001b[32m     56\u001b[39m \u001b[38;5;28;01mimport\u001b[39;00m\u001b[38;5;250m \u001b[39m\u001b[34;01mnumpy\u001b[39;00m\u001b[38;5;250m \u001b[39m\u001b[38;5;28;01mas\u001b[39;00m\u001b[38;5;250m \u001b[39m\u001b[34;01mnp\u001b[39;00m\n\u001b[32m---> \u001b[39m\u001b[32m57\u001b[39m \u001b[38;5;28;01mfrom\u001b[39;00m\u001b[38;5;250m \u001b[39m\u001b[34;01mmatplotlib\u001b[39;00m\u001b[38;5;250m \u001b[39m\u001b[38;5;28;01mimport\u001b[39;00m _api, _cm, cbook, scale\n\u001b[32m     58\u001b[39m \u001b[38;5;28;01mfrom\u001b[39;00m\u001b[38;5;250m \u001b[39m\u001b[34;01m.\u001b[39;00m\u001b[34;01m_color_data\u001b[39;00m\u001b[38;5;250m \u001b[39m\u001b[38;5;28;01mimport\u001b[39;00m BASE_COLORS, TABLEAU_COLORS, CSS4_COLORS, XKCD_COLORS\n\u001b[32m     61\u001b[39m \u001b[38;5;28;01mclass\u001b[39;00m\u001b[38;5;250m \u001b[39m\u001b[34;01m_ColorMapping\u001b[39;00m(\u001b[38;5;28mdict\u001b[39m):\n",
      "\u001b[36mFile \u001b[39m\u001b[32mC:\\anakonda\\Lib\\site-packages\\matplotlib\\scale.py:22\u001b[39m\n\u001b[32m     20\u001b[39m \u001b[38;5;28;01mimport\u001b[39;00m\u001b[38;5;250m \u001b[39m\u001b[34;01mmatplotlib\u001b[39;00m\u001b[38;5;250m \u001b[39m\u001b[38;5;28;01mas\u001b[39;00m\u001b[38;5;250m \u001b[39m\u001b[34;01mmpl\u001b[39;00m\n\u001b[32m     21\u001b[39m \u001b[38;5;28;01mfrom\u001b[39;00m\u001b[38;5;250m \u001b[39m\u001b[34;01mmatplotlib\u001b[39;00m\u001b[38;5;250m \u001b[39m\u001b[38;5;28;01mimport\u001b[39;00m _api, _docstring\n\u001b[32m---> \u001b[39m\u001b[32m22\u001b[39m \u001b[38;5;28;01mfrom\u001b[39;00m\u001b[38;5;250m \u001b[39m\u001b[34;01mmatplotlib\u001b[39;00m\u001b[34;01m.\u001b[39;00m\u001b[34;01mticker\u001b[39;00m\u001b[38;5;250m \u001b[39m\u001b[38;5;28;01mimport\u001b[39;00m (\n\u001b[32m     23\u001b[39m     NullFormatter, ScalarFormatter, LogFormatterSciNotation, LogitFormatter,\n\u001b[32m     24\u001b[39m     NullLocator, LogLocator, AutoLocator, AutoMinorLocator,\n\u001b[32m     25\u001b[39m     SymmetricalLogLocator, AsinhLocator, LogitLocator)\n\u001b[32m     26\u001b[39m \u001b[38;5;28;01mfrom\u001b[39;00m\u001b[38;5;250m \u001b[39m\u001b[34;01mmatplotlib\u001b[39;00m\u001b[34;01m.\u001b[39;00m\u001b[34;01mtransforms\u001b[39;00m\u001b[38;5;250m \u001b[39m\u001b[38;5;28;01mimport\u001b[39;00m Transform, IdentityTransform\n\u001b[32m     29\u001b[39m \u001b[38;5;28;01mclass\u001b[39;00m\u001b[38;5;250m \u001b[39m\u001b[34;01mScaleBase\u001b[39;00m:\n",
      "\u001b[36mFile \u001b[39m\u001b[32mC:\\anakonda\\Lib\\site-packages\\matplotlib\\ticker.py:144\u001b[39m\n\u001b[32m    142\u001b[39m \u001b[38;5;28;01mimport\u001b[39;00m\u001b[38;5;250m \u001b[39m\u001b[34;01mmatplotlib\u001b[39;00m\u001b[38;5;250m \u001b[39m\u001b[38;5;28;01mas\u001b[39;00m\u001b[38;5;250m \u001b[39m\u001b[34;01mmpl\u001b[39;00m\n\u001b[32m    143\u001b[39m \u001b[38;5;28;01mfrom\u001b[39;00m\u001b[38;5;250m \u001b[39m\u001b[34;01mmatplotlib\u001b[39;00m\u001b[38;5;250m \u001b[39m\u001b[38;5;28;01mimport\u001b[39;00m _api, cbook\n\u001b[32m--> \u001b[39m\u001b[32m144\u001b[39m \u001b[38;5;28;01mfrom\u001b[39;00m\u001b[38;5;250m \u001b[39m\u001b[34;01mmatplotlib\u001b[39;00m\u001b[38;5;250m \u001b[39m\u001b[38;5;28;01mimport\u001b[39;00m transforms \u001b[38;5;28;01mas\u001b[39;00m mtransforms\n\u001b[32m    146\u001b[39m _log = logging.getLogger(\u001b[34m__name__\u001b[39m)\n\u001b[32m    148\u001b[39m __all__ = (\u001b[33m'\u001b[39m\u001b[33mTickHelper\u001b[39m\u001b[33m'\u001b[39m, \u001b[33m'\u001b[39m\u001b[33mFormatter\u001b[39m\u001b[33m'\u001b[39m, \u001b[33m'\u001b[39m\u001b[33mFixedFormatter\u001b[39m\u001b[33m'\u001b[39m,\n\u001b[32m    149\u001b[39m            \u001b[33m'\u001b[39m\u001b[33mNullFormatter\u001b[39m\u001b[33m'\u001b[39m, \u001b[33m'\u001b[39m\u001b[33mFuncFormatter\u001b[39m\u001b[33m'\u001b[39m, \u001b[33m'\u001b[39m\u001b[33mFormatStrFormatter\u001b[39m\u001b[33m'\u001b[39m,\n\u001b[32m    150\u001b[39m            \u001b[33m'\u001b[39m\u001b[33mStrMethodFormatter\u001b[39m\u001b[33m'\u001b[39m, \u001b[33m'\u001b[39m\u001b[33mScalarFormatter\u001b[39m\u001b[33m'\u001b[39m, \u001b[33m'\u001b[39m\u001b[33mLogFormatter\u001b[39m\u001b[33m'\u001b[39m,\n\u001b[32m   (...)\u001b[39m\u001b[32m    156\u001b[39m            \u001b[33m'\u001b[39m\u001b[33mMultipleLocator\u001b[39m\u001b[33m'\u001b[39m, \u001b[33m'\u001b[39m\u001b[33mMaxNLocator\u001b[39m\u001b[33m'\u001b[39m, \u001b[33m'\u001b[39m\u001b[33mAutoMinorLocator\u001b[39m\u001b[33m'\u001b[39m,\n\u001b[32m    157\u001b[39m            \u001b[33m'\u001b[39m\u001b[33mSymmetricalLogLocator\u001b[39m\u001b[33m'\u001b[39m, \u001b[33m'\u001b[39m\u001b[33mAsinhLocator\u001b[39m\u001b[33m'\u001b[39m, \u001b[33m'\u001b[39m\u001b[33mLogitLocator\u001b[39m\u001b[33m'\u001b[39m)\n",
      "\u001b[36mFile \u001b[39m\u001b[32mC:\\anakonda\\Lib\\site-packages\\matplotlib\\transforms.py:49\u001b[39m\n\u001b[32m     46\u001b[39m \u001b[38;5;28;01mfrom\u001b[39;00m\u001b[38;5;250m \u001b[39m\u001b[34;01mnumpy\u001b[39;00m\u001b[34;01m.\u001b[39;00m\u001b[34;01mlinalg\u001b[39;00m\u001b[38;5;250m \u001b[39m\u001b[38;5;28;01mimport\u001b[39;00m inv\n\u001b[32m     48\u001b[39m \u001b[38;5;28;01mfrom\u001b[39;00m\u001b[38;5;250m \u001b[39m\u001b[34;01mmatplotlib\u001b[39;00m\u001b[38;5;250m \u001b[39m\u001b[38;5;28;01mimport\u001b[39;00m _api\n\u001b[32m---> \u001b[39m\u001b[32m49\u001b[39m \u001b[38;5;28;01mfrom\u001b[39;00m\u001b[38;5;250m \u001b[39m\u001b[34;01mmatplotlib\u001b[39;00m\u001b[34;01m.\u001b[39;00m\u001b[34;01m_path\u001b[39;00m\u001b[38;5;250m \u001b[39m\u001b[38;5;28;01mimport\u001b[39;00m (\n\u001b[32m     50\u001b[39m     affine_transform, count_bboxes_overlapping_bbox, update_path_extents)\n\u001b[32m     51\u001b[39m \u001b[38;5;28;01mfrom\u001b[39;00m\u001b[38;5;250m \u001b[39m\u001b[34;01m.\u001b[39;00m\u001b[34;01mpath\u001b[39;00m\u001b[38;5;250m \u001b[39m\u001b[38;5;28;01mimport\u001b[39;00m Path\n\u001b[32m     53\u001b[39m DEBUG = \u001b[38;5;28;01mFalse\u001b[39;00m\n",
      "\u001b[31mImportError\u001b[39m: initialization failed"
     ]
    }
   ],
   "source": [
    "import pandas as pd\n",
    "import numpy as np\n",
    "import matplotlib.pyplot as plt\n",
    "import seaborn as sns\n",
    "from scipy.stats import ttest_ind, f_oneway, chi2_contingency\n",
    "from sklearn.cluster import KMeans\n",
    "from sklearn.preprocessing import StandardScaler\n",
    "from sklearn.linear_model import LinearRegression\n",
    "\n",
    "data = pd.DataFrame({\n",
    "    'Age': [20, 22, 21, 23, 19, 24],\n",
    "    'Gender': ['Female', 'Male', 'Other', 'Female', 'Male', 'Female'],\n",
    "    'GPA': [3.8, 3.2, 3.5, 3.9, 2.9, 3.7],\n",
    "    'Major': ['Biology', 'Engineering', 'Arts', 'Computer Science', 'Mathematics', 'Biology'],  # Biology now has 2 students\n",
    "    'Enrollment_Year': [2020, 2021, 2019, 2020, 2022, 2021],\n",
    "    'Attendance_Percent': [85, 92, 78, 88, 65, 90],\n",
    "    'Nationality': ['USA', 'India', 'Canada', 'UK', 'Australia', 'USA']\n",
    "})\n",
    "\n",
    "print(data.head())"
   ]
  },
  {
   "cell_type": "code",
   "execution_count": null,
   "id": "4be9b893-3aad-45e1-ac06-7a81b0a278f8",
   "metadata": {},
   "outputs": [],
   "source": [
    "# Q1 : Median age\n",
    "median_age = data['Age'].median()\n",
    "print(f\"1.Median Age: {median_age}\")"
   ]
  },
  {
   "cell_type": "code",
   "execution_count": null,
   "id": "22b06303-f14b-402f-b6f5-6635bbebfbe0",
   "metadata": {},
   "outputs": [],
   "source": [
    "#Q2: Mode of Gender Column\n",
    "\n",
    "gender_mode = data['Gender'].mode().tolist()  \n",
    "print(f\"\\n2. Mode of Gender:{','.join(gender_mode)}\")"
   ]
  },
  {
   "cell_type": "code",
   "execution_count": null,
   "id": "e6291339-ebac-4b36-a9a4-acaea9129ce4",
   "metadata": {},
   "outputs": [],
   "source": [
    "# Q3: Standard Deviation of GPA\n",
    "# ------------------------------------------------------------------------------------\n",
    "gpa_std = data['GPA'].std().round(2)\n",
    "print(f\"\\n3. GPA Standard Deviation: {gpa_std}\")"
   ]
  },
  {
   "cell_type": "code",
   "execution_count": null,
   "id": "ce93a969-0ea0-44fa-8ac5-a004a577fc8a",
   "metadata": {},
   "outputs": [],
   "source": [
    " #Q4: Students Enrolled Per Year\n",
    "# ------------------------------------------------------------------------------------\n",
    "enrollment_counts = data['Enrollment_Year'].value_counts().sort_index()\n",
    "print(\"\\n4. Enrollment Counts by Year:\")\n",
    "print(enrollment_counts)\n"
   ]
  },
  {
   "cell_type": "code",
   "execution_count": null,
   "id": "c3a3eaaf-dbf2-40f1-9381-9e2c4085bece",
   "metadata": {},
   "outputs": [],
   "source": [
    "# Q5: Nationality Distribution\n",
    "# ------------------------------------------------------------------------------------\n",
    "nationality_dist = data['Nationality'].value_counts()\n",
    "print(\"\\n5. Nationality Distribution:\")\n",
    "print(nationality_dist)\n"
   ]
  },
  {
   "cell_type": "code",
   "execution_count": null,
   "id": "241ca0a1-edce-4d5a-ba2e-a631cfcdb670",
   "metadata": {},
   "outputs": [],
   "source": [
    "import seaborn as sns\n",
    "sns.set_theme(style=\"whitegrid\")\n",
    "# Q6: Histogram of Student Ages\n",
    "# ------------------------------------------------------------------------------------\n",
    "plt.figure(figsize=(8, 4))\n",
    "sns.histplot(data['Age'], bins=5, kde=False)\n",
    "plt.title(\"Age Distribution of Students\")\n",
    "plt.xlabel(\"Age\")\n",
    "plt.ylabel(\"Count\")\n",
    "plt.show()\n"
   ]
  },
  {
   "cell_type": "code",
   "execution_count": null,
   "id": "f332f638-1939-434a-ab3c-233e25e2ac9c",
   "metadata": {},
   "outputs": [],
   "source": [
    "# Q7: Bar Chart for Students in Each Major\n",
    "# ------------------------------------------------------------------------------------\n",
    "plt.figure(figsize=(8, 4))\n",
    "sns.countplot(data=data, x='Major', order=data['Major'].value_counts().index)\n",
    "plt.title(\"Number of Students by Major\")\n",
    "plt.xticks(rotation=45)\n",
    "plt.show()"
   ]
  },
  {
   "cell_type": "code",
   "execution_count": null,
   "id": "cc876186-3370-4f9c-ab2c-9770d808442d",
   "metadata": {},
   "outputs": [],
   "source": [
    "\n",
    "# Q8: Box Plot of GPA Distribution\n",
    "# ------------------------------------------------------------------------------------\n",
    "plt.figure(figsize=(8, 4))\n",
    "sns.boxplot(data=data, y='GPA')\n",
    "plt.title(\"GPA Distribution\")\n",
    "plt.show()"
   ]
  },
  {
   "cell_type": "code",
   "execution_count": null,
   "id": "b789a25c-9d78-4050-a072-6cb1dc8b9d63",
   "metadata": {},
   "outputs": [],
   "source": [
    "# Q9: Pie Chart for Gender Distribution\n",
    "# ------------------------------------------------------------------------------------\n",
    "gender_counts = data['Gender'].value_counts()\n",
    "plt.figure(figsize=(6, 6))\n",
    "plt.pie(gender_counts, labels=gender_counts.index, autopct='%1.1f%%')\n",
    "plt.title(\"Gender Distribution\")\n",
    "plt.show()\n"
   ]
  },
  {
   "cell_type": "code",
   "execution_count": null,
   "id": "c0e32b17-1fa1-41fe-9dc9-cb726b288a4a",
   "metadata": {},
   "outputs": [],
   "source": [
    "# Q10: Scatter Plot Between Attendance and GPA\n",
    "# ------------------------------------------------------------------------------------\n",
    "plt.figure(figsize=(8, 4))\n",
    "sns.scatterplot(data=data, x='Attendance_Percent', y='GPA', s=100)\n",
    "plt.title(\"Attendance vs. GPA\")\n",
    "plt.xlabel(\"Attendance (%)\")\n",
    "plt.ylabel(\"GPA\")\n",
    "plt.show()"
   ]
  },
  {
   "cell_type": "code",
   "execution_count": null,
   "id": "c465d453-1495-46d1-a93d-3c52f2913260",
   "metadata": {},
   "outputs": [],
   "source": [
    "# Q11: Compare Engineering vs. Arts GPAs\n",
    "# ------------------------------------------------------------------------------------\n",
    "engineering_gpa = data[data['Major'] == 'Engineering']['GPA'].mean()\n",
    "arts_gpa = data[data['Major'] == 'Arts']['GPA'].mean()\n",
    "print(f\"\\n11. Average GPA in Engineering: {engineering_gpa:.2f}\")\n",
    "print(f\"    Average GPA in Arts: {arts_gpa:.2f}\")\n"
   ]
  },
  {
   "cell_type": "code",
   "execution_count": null,
   "id": "44f94465-6801-4026-948d-d0ab0bef4dc7",
   "metadata": {},
   "outputs": [],
   "source": [
    "# Q12: Average Attendance by Gender\n",
    "# ------------------------------------------------------------------------------------\n",
    "attendance_by_gender = data.groupby('Gender')['Attendance_Percent'].mean().round(1)\n",
    "print(\"\\n12. Average Attendance by Gender:\")\n",
    "print(attendance_by_gender)"
   ]
  },
  {
   "cell_type": "code",
   "execution_count": null,
   "id": "1ad33315-360a-4526-9bb5-559ab09ac663",
   "metadata": {},
   "outputs": [],
   "source": [
    "# Q13: Age Distribution Across Majors\n",
    "# ------------------------------------------------------------------------------------\n",
    "plt.figure(figsize=(8, 4))\n",
    "sns.boxplot(data=data, x='Major', y='Age')\n",
    "plt.title(\"Age Distribution by Major\")\n",
    "plt.xticks(rotation=45)\n",
    "plt.show()"
   ]
  },
  {
   "cell_type": "code",
   "execution_count": null,
   "id": "2bbe9a46-34ff-4970-90b2-0e53ecbe21b1",
   "metadata": {},
   "outputs": [],
   "source": [
    "\n",
    "# Q14: Nationality with Highest GPA\n",
    "# ------------------------------------------------------------------------------------\n",
    "nationality_gpa = data.groupby('Nationality')['GPA'].mean().idxmax()\n",
    "print(f\"\\n14. Nationality with Highest GPA: {nationality_gpa}\")\n"
   ]
  },
  {
   "cell_type": "code",
   "execution_count": null,
   "id": "f467d84c-1614-44e9-aff8-995e369a2d68",
   "metadata": {},
   "outputs": [],
   "source": [
    "# Q15: Enrollment Count by Year\n",
    "# ------------------------------------------------------------------------------------\n",
    "plt.figure(figsize=(8, 4))\n",
    "sns.countplot(data=data, x='Enrollment_Year', order=sorted(data['Enrollment_Year'].unique()))\n",
    "plt.title(\"Enrollment Count by Year\")\n",
    "plt.xlabel(\"Enrollment Year\")\n",
    "plt.ylabel(\"Count\")\n",
    "plt.show()"
   ]
  },
  {
   "cell_type": "code",
   "execution_count": null,
   "id": "94073a80-330d-42cd-8ec9-f0e56610c71f",
   "metadata": {},
   "outputs": [],
   "source": [
    "\n",
    "# Q16: Correlation Between Age and GPA\n",
    "# ------------------------------------------------------------------------------------\n",
    "corr_age_gpa, _ = pearsonr(data['Age'], data['GPA'])\n",
    "print(f\"16. Correlation between Age and GPA: {corr_age_gpa:.2f}\")\n"
   ]
  },
  {
   "cell_type": "code",
   "execution_count": null,
   "id": "20270997-ead8-4cc6-96cb-278c9b9d3037",
   "metadata": {},
   "outputs": [],
   "source": [
    "# Q17: Correlation Between Attendance and GPA\n",
    "# ------------------------------------------------------------------------------------\n",
    "corr_attendance_gpa, _ = pearsonr(data['Attendance_Percent'], data['GPA'])\n",
    "print(f\"\\n17. Correlation between Attendance and GPA: {corr_attendance_gpa:.2f}\")\n"
   ]
  },
  {
   "cell_type": "code",
   "execution_count": null,
   "id": "a75e277f",
   "metadata": {},
   "outputs": [],
   "source": [
    "# Q18: Enrollment Trend Over Years\n",
    "# ------------------------------------------------------------------------------------\n",
    "enrollment_trend = data['Enrollment_Year'].value_counts().sort_index()\n",
    "print(\"\\n18. Enrollment Trend Over Years:\")\n",
    "print(enrollment_trend)\n"
   ]
  },
  {
   "cell_type": "code",
   "execution_count": null,
   "id": "eb60863b",
   "metadata": {},
   "outputs": [],
   "source": [
    "# Q19: Age Distribution by Major\n",
    "# ------------------------------------------------------------------------------------\n",
    "age_by_major = data.groupby('Major')['Age'].mean().round(1)\n",
    "print(\"\\n19. Average Age by Major:\")\n",
    "print(age_by_major)\n"
   ]
  },
  {
   "cell_type": "code",
   "execution_count": null,
   "id": "c0b5cc39",
   "metadata": {},
   "outputs": [],
   "source": [
    "# Q20: Attendance Patterns by Nationality\n",
    "# ------------------------------------------------------------------------------------\n",
    "attendance_by_nationality = data.groupby('Nationality')['Attendance_Percent'].mean().round(1)\n",
    "print(\"\\n20. Average Attendance by Nationality:\")\n",
    "print(attendance_by_nationality)"
   ]
  },
  {
   "cell_type": "code",
   "execution_count": null,
   "id": "ba5cce79",
   "metadata": {},
   "outputs": [],
   "source": [
    "#  Q21: Missing Values in Dataset\n",
    "# ------------------------------------------------------------------------------------\n",
    "missing_values = data.isnull().sum()\n",
    "print(\"\\n21. Missing Values in Dataset:\")\n",
    "print(missing_values)\n"
   ]
  },
  {
   "cell_type": "code",
   "execution_count": null,
   "id": "7b4747ff",
   "metadata": {},
   "outputs": [],
   "source": [
    "# Q22: Outliers in Age Column\n",
    "# ------------------------------------------------------------------------------------\n",
    "plt.figure(figsize=(8, 4))\n",
    "sns.boxplot(data=data, y='Age')\n",
    "plt.title(\"Outliers in Age Column\")\n",
    "plt.show()"
   ]
  },
  {
   "cell_type": "code",
   "execution_count": null,
   "id": "692a136c",
   "metadata": {},
   "outputs": [],
   "source": [
    "# Q23: Convert Enrollment_Year to Datetime\n",
    "# ------------------------------------------------------------------------------------\n",
    "data['Enrollment_Year'] = pd.to_datetime(data['Enrollment_Year'], format='%Y')\n",
    "print(\"\\n23. Enrollment_Year converted to datetime:\")\n",
    "print(data['Enrollment_Year'])"
   ]
  },
  {
   "cell_type": "code",
   "execution_count": null,
   "id": "186ac8de",
   "metadata": {},
   "outputs": [],
   "source": [
    "# Q24: Normalize Attendance_Percent Column\n",
    "# ------------------------------------------------------------------------------------\n",
    "data['Attendance_Normalized'] = (data['Attendance_Percent'] - data['Attendance_Percent'].min()) / (data['Attendance_Percent'].max() - data['Attendance_Percent'].min())\n",
    "print(\"\\n24. Normalized Attendance Percentages:\")\n",
    "print(data[['Attendance_Percent', 'Attendance_Normalized']])"
   ]
  },
  {
   "cell_type": "code",
   "execution_count": null,
   "id": "2974556d",
   "metadata": {},
   "outputs": [],
   "source": [
    "# Q25: Encode Gender Column into Numerical Categories\n",
    "# ------------------------------------------------------------------------------------\n",
    "data['Gender_Encoded'] = data['Gender'].map({'Female': 0, 'Male': 1, 'Other': 2})\n",
    "print(\"\\n25. Gender Encoded into Numerical Categories:\")\n",
    "print(data[['Gender', 'Gender_Encoded']])"
   ]
  },
  {
   "cell_type": "code",
   "execution_count": null,
   "id": "b83858b8",
   "metadata": {},
   "outputs": [],
   "source": [
    "# 26. Perform a t-test to compare GPAs of male and female students\n",
    "\n",
    "male_gpa = data[data['Gender'] == 'Male']['GPA']\n",
    "female_gpa = data[data['Gender'] == 'Female']['GPA']\n",
    "t_stat, p_value = ttest_ind(male_gpa, female_gpa)\n",
    "print(f\"26. T-test p-value: {p_value:.4f} (not significant in sample)\")"
   ]
  },
  {
   "cell_type": "code",
   "execution_count": null,
   "id": "7761ff7d",
   "metadata": {},
   "outputs": [],
   "source": [
    "numerical_data = data[['Age', 'GPA', 'Attendance_Percent']]\n",
    "plt.figure(figsize=(6, 4))\n",
    "sns.heatmap(numerical_data.corr(), annot=True, cmap='coolwarm')\n",
    "plt.title(\"27. Correlation Heatmap\")\n",
    "plt.show()"
   ]
  },
  {
   "cell_type": "code",
   "execution_count": null,
   "id": "30df376d",
   "metadata": {},
   "outputs": [],
   "source": [
    "X = data[['GPA', 'Attendance_Percent']]\n",
    "scaler = StandardScaler()\n",
    "X_scaled = scaler.fit_transform(X)\n",
    "kmeans = KMeans(n_clusters=2).fit(X_scaled)\n",
    "data['Cluster'] = kmeans.labels_\n",
    "print(\"28. Cluster Labels:\", data['Cluster'])"
   ]
  },
  {
   "cell_type": "code",
   "execution_count": null,
   "id": "61ff1480",
   "metadata": {},
   "outputs": [],
   "source": [
    "X = data[['Age', 'Attendance_Percent']]\n",
    "y = data['GPA']\n",
    "model = LinearRegression().fit(X, y)\n",
    "print(f\"29. R² Score: {model.score(X, y):.2f}\")"
   ]
  },
  {
   "cell_type": "code",
   "execution_count": null,
   "id": "a3fb1ef1",
   "metadata": {},
   "outputs": [],
   "source": [
    "from sklearn.decomposition import PCA\n",
    "pca = PCA(n_components=2)\n",
    "principal_components = pca.fit_transform(X_scaled)\n",
    "print(\"30. Explained Variance Ratio:\", pca.explained_variance_ratio_)"
   ]
  },
  {
   "cell_type": "code",
   "execution_count": null,
   "id": "01ba9cd1",
   "metadata": {},
   "outputs": [],
   "source": [
    "gender_major = pd.crosstab(data['Major'], data['Gender'], normalize='index')\n",
    "print(\"31. Female Proportion by Major:\\n\", gender_major['Female'])"
   ]
  },
  {
   "cell_type": "code",
   "execution_count": null,
   "id": "b86004be",
   "metadata": {},
   "outputs": [],
   "source": [
    "common_nationality = data.groupby('Gender')['Nationality'].agg(pd.Series.mode)\n",
    "print(\"32. Most Common Nationality by Gender:\\n\", common_nationality)"
   ]
  },
  {
   "cell_type": "code",
   "execution_count": null,
   "id": "b678d26b",
   "metadata": {},
   "outputs": [],
   "source": [
    "year_major = pd.crosstab(data['Enrollment_Year'], data['Major'])\n",
    "print(\"33. Majors by Enrollment Year:\\n\", year_major)"
   ]
  },
  {
   "cell_type": "code",
   "execution_count": null,
   "id": "f385426d",
   "metadata": {},
   "outputs": [],
   "source": [
    "gender_nationality = pd.crosstab(data['Nationality'], data['Gender'])\n",
    "print(\"34. Gender Distribution by Nationality:\\n\", gender_nationality)"
   ]
  },
  {
   "cell_type": "code",
   "execution_count": null,
   "id": "965e4ae1",
   "metadata": {},
   "outputs": [],
   "source": [
    "avg_gpa_nationality = data.groupby('Nationality')['GPA'].mean()\n",
    "print(\"35. Average GPA by Nationality:\\n\", avg_gpa_nationality)"
   ]
  },
  {
   "cell_type": "code",
   "execution_count": null,
   "id": "1868401d",
   "metadata": {},
   "outputs": [],
   "source": [
    "gpa_trend = data.groupby('Enrollment_Year')['GPA'].mean()\n",
    "print(\"36. GPA Trend Over Years:\\n\", gpa_trend)"
   ]
  },
  {
   "cell_type": "code",
   "execution_count": null,
   "id": "b6e4ed45",
   "metadata": {},
   "outputs": [],
   "source": [
    "plt.figure(figsize=(8, 4))\n",
    "sns.lineplot(x=data['Enrollment_Year'], y=data['Enrollment_Year'].value_counts())\n",
    "plt.title(\"37. Enrollment Trend Over Years\")\n",
    "plt.show()"
   ]
  },
  {
   "cell_type": "code",
   "execution_count": null,
   "id": "e8c19e03",
   "metadata": {},
   "outputs": [],
   "source": [
    "# Convert enrollment year to datetime for seasonal analysis\n",
    "data['Enrollment_Date'] = pd.to_datetime(data['Enrollment_Year'], format='%Y')\n",
    "data['Month'] = data['Enrollment_Date'].dt.month\n",
    "print(\"38. Enrollment Count by Month:\\n\", data['Month'].value_counts())"
   ]
  },
  {
   "cell_type": "code",
   "execution_count": null,
   "id": "37a486bb",
   "metadata": {},
   "outputs": [],
   "source": [
    "sns.boxplot(data=data, x='Enrollment_Year', y='Attendance_Percent')\n",
    "plt.title(\"39. Attendance by Enrollment Year\")\n",
    "plt.show()"
   ]
  },
  {
   "cell_type": "code",
   "execution_count": null,
   "id": "2332ef36",
   "metadata": {},
   "outputs": [],
   "source": [
    "enrollment_growth = data['Enrollment_Year'].value_counts().sort_index().pct_change() * 100\n",
    "print(\"40. YoY Enrollment Growth (%):\\n\", enrollment_growth)"
   ]
  },
  {
   "cell_type": "code",
   "execution_count": null,
   "id": "92e858f5",
   "metadata": {},
   "outputs": [],
   "source": [
    "major_groups = [data[data['Major'] == major]['GPA'] for major in data['Major'].unique()]\n",
    "f_stat, p_value = f_oneway(*major_groups)\n",
    "print(f\"41. ANOVA p-value: {p_value:.4f}\")"
   ]
  },
  {
   "cell_type": "code",
   "execution_count": null,
   "id": "a4b1646a",
   "metadata": {},
   "outputs": [],
   "source": [
    "male_att = data[data['Gender'] == 'Male']['Attendance_Percent']\n",
    "female_att = data[data['Gender'] == 'Female']['Attendance_Percent']\n",
    "t_stat, p_value = ttest_ind(male_att, female_att)\n",
    "print(f\"42. T-test p-value: {p_value:.4f}\")"
   ]
  },
  {
   "cell_type": "code",
   "execution_count": null,
   "id": "c6185be2",
   "metadata": {},
   "outputs": [],
   "source": [
    "from scipy.stats import shapiro\n",
    "stat, p = shapiro(data['Age'])\n",
    "print(f\"43. Shapiro-Wilk p-value: {p:.4f} (normal if p > 0.05)\")"
   ]
  },
  {
   "cell_type": "code",
   "execution_count": null,
   "id": "2cf70a86",
   "metadata": {},
   "outputs": [],
   "source": [
    "contingency_table = pd.crosstab(data['Gender'], data['Nationality'])\n",
    "chi2, p, dof, _ = chi2_contingency(contingency_table)\n",
    "print(f\"44. Chi-square p-value: {p:.4f}\")"
   ]
  },
  {
   "cell_type": "code",
   "execution_count": null,
   "id": "575560bd",
   "metadata": {},
   "outputs": [],
   "source": [
    "from scipy.stats import levene\n",
    "groups = [data[data['Gender'] == gender]['GPA'] for gender in data['Gender'].unique()]\n",
    "stat, p = levene(*groups)\n",
    "print(f\"45. Levene's Test p-value: {p:.4f} (equal variance if p > 0.05)\")"
   ]
  },
  {
   "cell_type": "code",
   "execution_count": null,
   "id": "b9f0f43c",
   "metadata": {},
   "outputs": [],
   "source": [
    "plt.figure(figsize=(8, 4))\n",
    "sns.swarmplot(data=data, x='Gender', y='GPA', hue='Gender', palette='viridis' ,legend=False)\n",
    "plt.title(\"GPA Distribution by Gender\")\n",
    "plt.show()"
   ]
  },
  {
   "cell_type": "code",
   "execution_count": null,
   "id": "fc91e836",
   "metadata": {},
   "outputs": [],
   "source": [
    "data['Age_Group'] = pd.cut(data['Age'], bins=[18, 21, 25], labels=['18-21', '22-25'])\n",
    "age_gpa = data.groupby('Age_Group')['GPA'].mean().round(2)\n",
    "print(\"Average GPA by Age Group:\\n\", age_gpa)"
   ]
  },
  {
   "cell_type": "code",
   "execution_count": null,
   "id": "e7f31dad",
   "metadata": {},
   "outputs": [],
   "source": [
    "plt.figure(figsize=(6, 4))\n",
    "sns.swarmplot(data=data, x='Gender', y='GPA',  hue= 'Gender',palette='Set2' , legend=False)\n",
    "plt.title(\"GPA Distribution by Gender\")\n",
    "plt.show()"
   ]
  },
  {
   "cell_type": "code",
   "execution_count": null,
   "id": "b80a54a3",
   "metadata": {},
   "outputs": [],
   "source": [
    "gender_major = pd.crosstab(data['Major'], data['Gender'])\n",
    "gender_major.plot(kind='bar', stacked=True, figsize=(8, 4))\n",
    "plt.title(\"Gender Distribution by Major\")\n",
    "plt.xticks(rotation=45)\n",
    "plt.show()"
   ]
  },
  {
   "cell_type": "code",
   "execution_count": null,
   "id": "d551855d",
   "metadata": {},
   "outputs": [],
   "source": [
    "plt.figure(figsize=(8, 4))\n",
    "sns.kdeplot(data['Age'], fill=True)\n",
    "plt.title(\"Age Distribution (KDE)\")\n",
    "plt.show()"
   ]
  },
  {
   "cell_type": "code",
   "execution_count": null,
   "id": "cc9cf6f2",
   "metadata": {},
   "outputs": [],
   "source": [
    "plt.figure(figsize=(8, 4))\n",
    "sns.scatterplot(data=data, x='Attendance_Percent', y='GPA', size='Age', sizes=(50, 200))\n",
    "plt.title(\"GPA vs. Attendance (Bubble Size = Age)\")\n",
    "plt.show()"
   ]
  },
  {
   "cell_type": "code",
   "execution_count": null,
   "id": "b5f79e55",
   "metadata": {},
   "outputs": [],
   "source": [
    "from math import pi\n",
    "\n",
    "# Define numeric columns only\n",
    "categories = ['GPA', 'Attendance_Percent', 'Age']  # Ensure these are numeric!\n",
    "\n",
    "# Calculate mean for numeric columns\n",
    "values = data[categories].mean().tolist()\n",
    "values += values[:1]  # Close the radar chart\n",
    "\n",
    "# Generate angles for the radar chart\n",
    "angles = [n / len(categories) * 2 * pi for n in range(len(categories))]\n",
    "angles += angles[:1]\n",
    "\n",
    "# Plot\n",
    "fig = plt.figure(figsize=(6, 6))\n",
    "ax = fig.add_subplot(111, polar=True)\n",
    "ax.plot(angles, values, linewidth=1, linestyle='solid')\n",
    "ax.fill(angles, values, alpha=0.3)\n",
    "ax.set_xticks(angles[:-1])\n",
    "ax.set_xticklabels(categories)\n",
    "plt.title(\"Radar Chart of Student Attributes\")\n",
    "plt.show()"
   ]
  },
  {
   "cell_type": "code",
   "execution_count": null,
   "id": "26e14f71",
   "metadata": {},
   "outputs": [],
   "source": [
    "data['Age_Group'] = pd.cut(data['Age'], bins=[18, 21, 25], labels=['18-21', '22-25'])\n",
    "age_gpa = data.groupby('Age_Group')['GPA'].mean()\n",
    "print(\"Average GPA by Age Group:\\n\", age_gpa)"
   ]
  },
  {
   "cell_type": "code",
   "execution_count": null,
   "id": "ad0e1c3f",
   "metadata": {},
   "outputs": [],
   "source": [
    "data['GPA_Category'] = pd.cut(data['GPA'], bins=[0, 2.5, 3.5, 4.0], labels=['Low', 'Medium', 'High'])\n",
    "print(data[['GPA', 'GPA_Category']])"
   ]
  },
  {
   "cell_type": "code",
   "execution_count": null,
   "id": "75d8c6f8",
   "metadata": {},
   "outputs": [],
   "source": [
    "pivot_table = data.pivot_table(values='GPA', index='Major', columns='Enrollment_Year', aggfunc='mean')\n",
    "print(pivot_table)"
   ]
  },
  {
   "cell_type": "code",
   "execution_count": null,
   "id": "3cc5f17d",
   "metadata": {},
   "outputs": [],
   "source": [
    "melted_data = data.melt(\n",
    "    id_vars=['Gender', 'Major'], \n",
    "    value_vars=['GPA', 'Attendance_Percent'],\n",
    "    var_name='Metric', \n",
    "    value_name='Value'\n",
    ")\n",
    "print(melted_data.head())"
   ]
  },
  {
   "cell_type": "code",
   "execution_count": null,
   "id": "1ec569a4",
   "metadata": {},
   "outputs": [],
   "source": [
    "summary = data.groupby('Nationality').agg({'GPA': ['mean', 'std'], 'Age': 'median'})\n",
    "print(summary)"
   ]
  },
  {
   "cell_type": "code",
   "execution_count": null,
   "id": "41f080f3",
   "metadata": {},
   "outputs": [],
   "source": [
    "probation = (data['GPA'] < 2.0).mean() * 100\n",
    "print(f\"Students on probation: {probation:.1f}%\")"
   ]
  },
  {
   "cell_type": "code",
   "execution_count": null,
   "id": "24293723",
   "metadata": {},
   "outputs": [],
   "source": [
    "pass_rate = (data['GPA'] >= 3.0).mean() * 100\n",
    "print(f\"Pass rate: {pass_rate:.1f}%\")"
   ]
  },
  {
   "cell_type": "code",
   "execution_count": null,
   "id": "bb603484",
   "metadata": {},
   "outputs": [],
   "source": [
    "top_major = data.groupby('Major')['GPA'].mean().idxmax()\n",
    "print(f\"Top major: {top_major} (GPA = {data.groupby('Major')['GPA'].mean().max():.2f})\")"
   ]
  },
  {
   "cell_type": "code",
   "execution_count": null,
   "id": "0d2cc9d7",
   "metadata": {},
   "outputs": [],
   "source": [
    "data['GPA_Rank'] = data.groupby('Enrollment_Year')['GPA'].rank(ascending=False)\n",
    "print(data[['Enrollment_Year', 'GPA', 'GPA_Rank']])"
   ]
  },
  {
   "cell_type": "code",
   "execution_count": null,
   "id": "b1317e59",
   "metadata": {},
   "outputs": [],
   "source": [
    "high_gpa_att = data[data['GPA'] > 3.5]['Attendance_Percent'].mean()\n",
    "others_att = data[data['GPA'] <= 3.5]['Attendance_Percent'].mean()\n",
    "print(f\"High GPA attendance: {high_gpa_att:.1f}% vs Others: {others_att:.1f}%\")"
   ]
  },
  {
   "cell_type": "code",
   "execution_count": null,
   "id": "c6574f60",
   "metadata": {},
   "outputs": [],
   "source": [
    "from sklearn.model_selection import train_test_split\n",
    "\n",
    "X = data[['Age', 'Attendance_Percent']]\n",
    "y = data['GPA']\n",
    "X_train, X_test, y_train, y_test = train_test_split(X, y, test_size=0.2, random_state=42)\n",
    "print(f\"Train size: {len(X_train)}, Test size: {len(X_test)}\")"
   ]
  },
  {
   "cell_type": "code",
   "execution_count": null,
   "id": "8c0b27e0",
   "metadata": {},
   "outputs": [],
   "source": [
    "scaler = StandardScaler()\n",
    "X_scaled = scaler.fit_transform(X)\n",
    "print(\"Scaled Features:\\n\", X_scaled)"
   ]
  },
  {
   "cell_type": "code",
   "execution_count": null,
   "id": "04e8c26b",
   "metadata": {},
   "outputs": [],
   "source": [
    "data_encoded = pd.get_dummies(data, columns=['Gender', 'Major', 'Nationality'])\n",
    "print(data_encoded.columns)"
   ]
  },
  {
   "cell_type": "code",
   "execution_count": null,
   "id": "d4b5e210",
   "metadata": {},
   "outputs": [],
   "source": [
    "from imblearn.over_sampling import SMOTE\n",
    "\n",
    "# Example: Only 1 sample per major → Not feasible here. Requires larger data.\n",
    "print(\"Sample too small for resampling. Use a larger dataset.\")"
   ]
  },
  {
   "cell_type": "code",
   "execution_count": null,
   "id": "ba61c58a",
   "metadata": {},
   "outputs": [],
   "source": [
    "from sklearn.feature_selection import SelectKBest, f_regression\n",
    "\n",
    "selector = SelectKBest(score_func=f_regression, k=2)\n",
    "X_selected = selector.fit_transform(X, y)\n",
    "print(\"Selected Features:\", X.columns[selector.get_support()])"
   ]
  },
  {
   "cell_type": "code",
   "execution_count": null,
   "id": "281f0373",
   "metadata": {},
   "outputs": [],
   "source": [
    "# Q66\n",
    "plt.figure(figsize=(8, 4))\n",
    "sns.scatterplot(\n",
    "    data=data, \n",
    "    x='Attendance_Percent', \n",
    "    y='GPA', \n",
    "    size='Age', \n",
    "    sizes=(50, 200),\n",
    "    hue='Gender'\n",
    ")\n",
    "plt.title(\"66. GPA vs. Attendance (Bubble Size = Age)\")\n",
    "plt.show()"
   ]
  },
  {
   "cell_type": "code",
   "execution_count": null,
   "id": "57d96e09",
   "metadata": {},
   "outputs": [],
   "source": [
    "# Q67\n",
    "from math import pi\n",
    "categories = ['GPA', 'Attendance_Percent', 'Age']\n",
    "values = data[categories].mean().tolist()\n",
    "values += values[:1]  # Close the chart\n",
    "\n",
    "angles = [n / len(categories) * 2 * pi for n in range(len(categories))]\n",
    "angles += angles[:1]\n",
    "\n",
    "fig = plt.figure(figsize=(6, 6))\n",
    "ax = fig.add_subplot(111, polar=True)\n",
    "ax.plot(angles, values)\n",
    "ax.fill(angles, values, alpha=0.3)\n",
    "ax.set_xticks(angles[:-1])\n",
    "ax.set_xticklabels(categories)\n",
    "plt.title(\"67. Radar Chart of Student Attributes\")\n",
    "plt.show()"
   ]
  },
  {
   "cell_type": "code",
   "execution_count": null,
   "id": "ebaa4704",
   "metadata": {},
   "outputs": [],
   "source": [
    "# Q68\n",
    "data['Age_Group'] = pd.cut(data['Age'], bins=[18, 21, 25], labels=['18-21', '22-25'])\n",
    "age_gpa = data.groupby('Age_Group')['GPA'].mean()\n",
    "print(\"68. Average GPA by Age Group:\\n\", age_gpa)"
   ]
  },
  {
   "cell_type": "code",
   "execution_count": null,
   "id": "827efa4f",
   "metadata": {},
   "outputs": [],
   "source": [
    "# Q69\n",
    "data['GPA_Category'] = pd.cut(data['GPA'], bins=[0, 2.5, 3.5, 4.0], labels=['Low', 'Medium', 'High'])\n",
    "print(\"69. GPA Categories:\\n\", data[['GPA', 'GPA_Category']])"
   ]
  },
  {
   "cell_type": "code",
   "execution_count": null,
   "id": "2a718359",
   "metadata": {},
   "outputs": [],
   "source": [
    "# Q69\n",
    "data['GPA_Category'] = pd.cut(data['GPA'], bins=[0, 2.5, 3.5, 4.0], labels=['Low', 'Medium', 'High'])\n",
    "print(\"69. GPA Categories:\\n\", data[['GPA', 'GPA_Category']])"
   ]
  },
  {
   "cell_type": "code",
   "execution_count": null,
   "id": "3d40b925",
   "metadata": {},
   "outputs": [],
   "source": [
    "# Q71\n",
    "data['Student_ID'] = data.index + 1  # Create Student_ID\n",
    "melted_data = data.melt(id_vars=['Student_ID'], value_vars=['GPA', 'Attendance_Percent'])\n",
    "print(\"71. Melted Data:\\n\", melted_data.head())"
   ]
  },
  {
   "cell_type": "code",
   "execution_count": null,
   "id": "c936f751",
   "metadata": {},
   "outputs": [],
   "source": [
    "# Q72\n",
    "summary = data.groupby('Nationality').agg({'GPA': ['mean', 'std'], 'Age': 'median'})\n",
    "print(\"72. Summary Stats:\\n\", summary)"
   ]
  },
  {
   "cell_type": "code",
   "execution_count": null,
   "id": "3b9e124f",
   "metadata": {},
   "outputs": [],
   "source": [
    "# Q73\n",
    "probation = (data['GPA'] < 2.0).mean() * 100\n",
    "print(f\"73. Students on probation: {probation:.1f}%\")"
   ]
  },
  {
   "cell_type": "code",
   "execution_count": null,
   "id": "5ec9a1d3",
   "metadata": {},
   "outputs": [],
   "source": [
    "# Q74\n",
    "pass_rate = (data['GPA'] >= 3.0).mean() * 100\n",
    "print(f\"74. Pass rate: {pass_rate:.1f}%\")"
   ]
  },
  {
   "cell_type": "code",
   "execution_count": null,
   "id": "e7274c60",
   "metadata": {},
   "outputs": [],
   "source": [
    "# Q75\n",
    "top_major = data.groupby('Major')['GPA'].mean().idxmax()\n",
    "print(f\"75. Top major: {top_major} (GPA = {data.groupby('Major')['GPA'].mean().max():.2f})\")"
   ]
  },
  {
   "cell_type": "code",
   "execution_count": null,
   "id": "e55b6eb3",
   "metadata": {},
   "outputs": [],
   "source": [
    "# Q76\n",
    "data['GPA_Rank'] = data.groupby('Enrollment_Year')['GPA'].rank(ascending=False)\n",
    "print(\"76. GPA Ranks:\\n\", data[['Enrollment_Year', 'GPA', 'GPA_Rank']])"
   ]
  },
  {
   "cell_type": "code",
   "execution_count": null,
   "id": "3145efac",
   "metadata": {},
   "outputs": [],
   "source": [
    "# Q77\n",
    "high_gpa_att = data[data['GPA'] > 3.5]['Attendance_Percent'].mean()\n",
    "others_att = data[data['GPA'] <= 3.5]['Attendance_Percent'].mean()\n",
    "print(f\"77. High GPA attendance: {high_gpa_att:.1f}% vs Others: {others_att:.1f}%\")"
   ]
  },
  {
   "cell_type": "code",
   "execution_count": null,
   "id": "7f411924",
   "metadata": {},
   "outputs": [],
   "source": [
    "# Q78\n",
    "from sklearn.model_selection import train_test_split\n",
    "X = data[['Age', 'Attendance_Percent']]\n",
    "y = data['GPA']\n",
    "X_train, X_test, y_train, y_test = train_test_split(X, y, test_size=0.2)\n",
    "print(f\"78. Train size: {len(X_train)}, Test size: {len(X_test)}\")"
   ]
  },
  {
   "cell_type": "code",
   "execution_count": null,
   "id": "68ea3d71",
   "metadata": {},
   "outputs": [],
   "source": [
    "# Q79\n",
    "from sklearn.preprocessing import StandardScaler\n",
    "scaler = StandardScaler()\n",
    "X_scaled = scaler.fit_transform(X)\n",
    "print(\"79. Scaled Features:\\n\", X_scaled)"
   ]
  },
  {
   "cell_type": "code",
   "execution_count": null,
   "id": "9cf13cf2",
   "metadata": {},
   "outputs": [],
   "source": [
    "# Q80\n",
    "data_encoded = pd.get_dummies(data, columns=['Gender', 'Major'])\n",
    "print(\"80. Encoded Columns:\\n\", data_encoded.columns)"
   ]
  },
  {
   "cell_type": "code",
   "execution_count": null,
   "id": "aa111993",
   "metadata": {},
   "outputs": [],
   "source": [
    "# Q81\n",
    "print(\"81. Class imbalance: Sample too small for resampling. Use larger dataset.\")"
   ]
  },
  {
   "cell_type": "code",
   "execution_count": null,
   "id": "01961413",
   "metadata": {},
   "outputs": [],
   "source": [
    "# Q82\n",
    "from sklearn.feature_selection import SelectKBest, f_regression\n",
    "selector = SelectKBest(score_func=f_regression, k=2)\n",
    "X_selected = selector.fit_transform(X, y)\n",
    "print(\"82. Selected Features:\", X.columns[selector.get_support()])"
   ]
  },
  {
   "cell_type": "code",
   "execution_count": null,
   "id": "8f6d333a",
   "metadata": {},
   "outputs": [],
   "source": [
    "# Q83\n",
    "from scipy.stats import entropy\n",
    "gender_counts = data['Gender'].value_counts()\n",
    "entropy_val = entropy(gender_counts)\n",
    "print(f\"83. Entropy: {entropy_val:.2f}\")"
   ]
  },
  {
   "cell_type": "code",
   "execution_count": null,
   "id": "db590257",
   "metadata": {},
   "outputs": [],
   "source": [
    "# Q84: Calculate Gini Coefficient\n",
    "def gini_coefficient(values):\n",
    "    sorted_values = np.sort(values)\n",
    "    n = len(values)\n",
    "    index = np.arange(1, n + 1)\n",
    "    return (np.sum((2 * index - n - 1) * sorted_values)) / (n * np.sum(sorted_values))\n",
    "\n",
    "gini = gini_coefficient(data['GPA'])\n",
    "print(f\"84. Gini Coefficient: {gini:.2f}\")"
   ]
  },
  {
   "cell_type": "code",
   "execution_count": null,
   "id": "00700c23",
   "metadata": {},
   "outputs": [],
   "source": [
    "# Q85\n",
    "enrollment = data['Enrollment_Year'].value_counts().sort_index()\n",
    "plt.figure(figsize=(8, 4))\n",
    "sns.lineplot(x=enrollment.index, y=enrollment.values)\n",
    "plt.title(\"85. Enrollment Trend Forecast\")\n",
    "plt.show()"
   ]
  },
  {
   "cell_type": "code",
   "execution_count": null,
   "id": "e3b2dc87",
   "metadata": {},
   "outputs": [],
   "source": [
    "# Q86\n",
    "scholarship_students = data[data['GPA'] >= 3.8]\n",
    "print(f\"86. Scholarships to award: {len(scholarship_students)} students\")"
   ]
  },
  {
   "cell_type": "code",
   "execution_count": null,
   "id": "f4b69b26",
   "metadata": {},
   "outputs": [],
   "source": [
    "# Q87\n",
    "low_att_major = data.groupby('Major')['Attendance_Percent'].mean().idxmin()\n",
    "print(f\"87. Major needing intervention: {low_att_major}\")"
   ]
  },
  {
   "cell_type": "code",
   "execution_count": null,
   "id": "88011700",
   "metadata": {},
   "outputs": [],
   "source": [
    "# Q88\n",
    "enrollment_counts = data['Major'].value_counts()\n",
    "under_enrolled = enrollment_counts[enrollment_counts == 1].index.tolist()\n",
    "print(f\"88. Under-enrolled majors: {under_enrolled}\")"
   ]
  },
  {
   "cell_type": "code",
   "execution_count": null,
   "id": "76c64734",
   "metadata": {},
   "outputs": [],
   "source": [
    "# Q89\n",
    "plt.figure(figsize=(8, 4))\n",
    "sns.countplot(data=data, x='Nationality')\n",
    "plt.title(\"89. Nationality Distribution for Campus Planning\")\n",
    "plt.show()"
   ]
  },
  {
   "cell_type": "code",
   "execution_count": null,
   "id": "8ac12683",
   "metadata": {},
   "outputs": [],
   "source": [
    "# Q90\n",
    "high_gpa_nationality = data.groupby('Nationality')['GPA'].mean().idxmax()\n",
    "print(f\"90. Target nationality: {high_gpa_nationality}\")"
   ]
  },
  {
   "cell_type": "code",
   "execution_count": null,
   "id": "a24b62d8",
   "metadata": {},
   "outputs": [],
   "source": [
    "# Q91\n",
    "advisor_allocation = data['Major'].value_counts().to_dict()\n",
    "print(\"91. Advisors per major:\", advisor_allocation)"
   ]
  },
  {
   "cell_type": "code",
   "execution_count": null,
   "id": "254d284c",
   "metadata": {},
   "outputs": [],
   "source": [
    "# Q92\n",
    "low_att_days = [\"Monday\", \"Friday\"]  # Hypothetical analysis\n",
    "print(f\"92. Reschedule classes from: {low_att_days}\")"
   ]
  },
  {
   "cell_type": "code",
   "execution_count": null,
   "id": "e9524346",
   "metadata": {},
   "outputs": [],
   "source": [
    "# Q93\n",
    "weak_majors = data.groupby('Major')['GPA'].mean().nsmallest(1).index.tolist()\n",
    "print(f\"93. Focus on: {weak_majors}\")"
   ]
  },
  {
   "cell_type": "code",
   "execution_count": null,
   "id": "ff8e46db",
   "metadata": {},
   "outputs": [],
   "source": [
    "# Q94\n",
    "from scipy.stats import entropy\n",
    "gender_counts = data['Gender'].value_counts()\n",
    "entropy_val = entropy(gender_counts)\n",
    "print(f\"94. Entropy: {entropy_val:.2f}\")"
   ]
  },
  {
   "cell_type": "code",
   "execution_count": null,
   "id": "b26608b3",
   "metadata": {},
   "outputs": [],
   "source": [
    "# Q95\n",
    "def gini_coefficient(values):\n",
    "    sorted_values = np.sort(values)\n",
    "    n = len(values)\n",
    "    index = np.arange(1, n + 1)\n",
    "    return (np.sum((2 * index - n - 1) * sorted_values)) / (n * np.sum(sorted_values))\n",
    "\n",
    "\n",
    "print(f\"95. Gini Coefficient: {gini:.2f}\")"
   ]
  },
  {
   "cell_type": "code",
   "execution_count": null,
   "id": "ef6d5a3f",
   "metadata": {},
   "outputs": [],
   "source": [
    "# Q96\n",
    "print(\"96. Add text data (e.g., student feedback) for sentiment analysis.\")"
   ]
  },
  {
   "cell_type": "code",
   "execution_count": null,
   "id": "2f986fcc",
   "metadata": {},
   "outputs": [],
   "source": [
    "# Q97\n",
    "data['Simulated_GPA'] = data['GPA'] + (data['Attendance_Percent'] / 100)\n",
    "print(\"97. Simulated GPAs:\\n\", data[['GPA', 'Simulated_GPA']])"
   ]
  },
  {
   "cell_type": "code",
   "execution_count": null,
   "id": "73e477f3",
   "metadata": {},
   "outputs": [],
   "source": [
    "# Q98: Forecast Future Enrollment (Fixed)\n",
    "enrollment = data['Enrollment_Year'].value_counts().sort_index().reset_index()\n",
    "enrollment.columns = ['Year', 'Count']\n",
    "X = enrollment[['Year']]  # Unique years as features\n",
    "y = enrollment['Count']    # Enrollment counts as targets\n",
    "\n",
    "model = LinearRegression().fit(X, y)\n",
    "future_year = [[2023]]\n",
    "pred = model.predict(future_year)\n",
    "print(f\"98. Predicted 2023 enrollments: {int(pred[0])}\")"
   ]
  },
  {
   "cell_type": "code",
   "execution_count": null,
   "id": "9543817f",
   "metadata": {},
   "outputs": [],
   "source": [
    "# Q99\n",
    "corr_age_gpa = data['Age'].corr(data['GPA'])\n",
    "print(f\"99. Age-GPA correlation: {corr_age_gpa:.2f}\")"
   ]
  },
  {
   "cell_type": "code",
   "execution_count": null,
   "id": "732e8236",
   "metadata": {},
   "outputs": [],
   "source": [
    "# Q100\n",
    "print(\"100. Use tools like Plotly Dash or Streamlit for dynamic dashboards.\")"
   ]
  },
  {
   "cell_type": "code",
   "execution_count": null,
   "id": "1791932c",
   "metadata": {},
   "outputs": [],
   "source": []
  }
 ],
 "metadata": {
  "kernelspec": {
   "display_name": "Python 3 (ipykernel)",
   "language": "python",
   "name": "python3"
  },
  "language_info": {
   "codemirror_mode": {
    "name": "ipython",
    "version": 3
   },
   "file_extension": ".py",
   "mimetype": "text/x-python",
   "name": "python",
   "nbconvert_exporter": "python",
   "pygments_lexer": "ipython3",
   "version": "3.12.7"
  }
 },
 "nbformat": 4,
 "nbformat_minor": 5
}
